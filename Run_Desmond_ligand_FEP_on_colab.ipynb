{
  "nbformat": 4,
  "nbformat_minor": 0,
  "metadata": {
    "colab": {
      "name": "Run_Desmond_ligand_FEP_on_colab.ipynb",
      "provenance": [],
      "collapsed_sections": [],
      "background_execution": "on"
    },
    "kernelspec": {
      "display_name": "Python 3",
      "name": "python3"
    },
    "accelerator": "GPU"
  },
  "cells": [
    {
      "cell_type": "markdown",
      "source": [
        "[![Open In Colab](https://colab.research.google.com/assets/colab-badge.svg)](https://colab.research.google.com/github/quantaosun/Install_and_Run_Desmond_Academic_FEP_on_Colab/blob/main/Run_Desmond_ligand_FEP_on_colab.ipynb)"
      ],
      "metadata": {
        "id": "sjXuoWUfJauh"
      }
    },
    {
      "cell_type": "markdown",
      "metadata": {
        "id": "qberSmCjH8S0"
      },
      "source": [
        "This is for an FEP simulation, input files are produced from the Desmond Academic Maestro LigandFEP module. Written by quantaosun@gmail.com in 2021, Shanghai, China, during the leave from my PhD program. The ultimate goal here is to allow you to calculate the difference in free energy of binding between a pair of small molecules, as will show in the cell labelled 🙋 👀 😊😊 below, unfortunately, you have wait at least several hours before the result could be seen, as FEP is highly costly in terms of computer resources."
      ]
    },
    {
      "cell_type": "markdown",
      "source": [
        "As of 2022, FEP calculation is still of high value and the commercial price is expensive. This notebook is to provide the academic and non-profit research community with a real solution if they want to try this new method. There are way too many so-called FEPs that take forever to learn and finish. Desmond is the fastest and most reliable one I have ever met, with GPU supported, a typical FEP could be finished with 10h, with a Tesla V100 on Google Colab, with only a subscription fee of around 70 USD per month. It is a bit expensive if you look at it from a coffee price way, but it is nothing compared to some commercial FEP license fee. It is guaranteed the academic version is working, For the commercial version, I have not tested it yet, you may need to adjust some of the commands, or it might be not possible if the commercial one fixes the IP address but Colab allocates us random IP every time."
      ],
      "metadata": {
        "id": "GLBiWoHdBygq"
      }
    },
    {
      "cell_type": "markdown",
      "source": [
        "As any other methods, FEP has its limitation as well. There are three situations you shouldn't use this methodology\n",
        "\n",
        "1.   The binding pocket is highly flexible or changes a lot upon binindg to ligand.\n",
        "2.   The two ligands share a similarity less than 60%. \n",
        "\n",
        "3. The two ligands binds to the pocket in quite different modes, even they share greater than 60% chemical similarity.\n",
        "\n",
        "Note 60% is my personal view of a similarity boundary, you could argue it could be 70% or 50%.\n",
        "\n"
      ],
      "metadata": {
        "id": "-0UaYZcvHy7J"
      }
    },
    {
      "cell_type": "code",
      "source": [
        "To get an FEP done, you need 1. Licensed Desmond to allow you to prepare your input files. 2. A platform with a decent GPU \n",
        "allow you to finish the simulation within a reasonable time. This notebook already helped to sort out number 2 with google collab's GPU. For number 1\n",
        "please sort it out yourself since I can not provide you with a licensed Desmond but you have to apply from Desmond's official site."
      ],
      "metadata": {
        "id": "dKlvaoNL9Nbc"
      },
      "execution_count": null,
      "outputs": []
    },
    {
      "cell_type": "markdown",
      "source": [
        "# Please note this is not a stand-alone workflow, I only provide the way how to run it. You should figure out how to apply an Academic verison of Desmond, installed it on your local laptop or cluster that support GUI, to generate input files. Then upload another copy of Desmond install package as well as the input files here to finish this workflow.\n",
        "\n",
        "---\n",
        "\n",
        "**To comply with intellectual property rules, you need to apply your Desmond by yourself or prepare your input or by commercial Schrodinger FEP+， i.e.， the second excutable cell with ⚠️⚠️ below.**"
      ],
      "metadata": {
        "id": "Sc3L_9-42eDN"
      }
    },
    {
      "cell_type": "markdown",
      "source": [
        "\n",
        "Alternatively, this notebook could be used on any Cloud GPU platforms that Desmond supported, the only thing you have to make sure of is that, \n",
        "the 'USER' environment needs to be defined clearly on different platforms， change this in cell labeled with  ⚠️🌹 below. "
      ],
      "metadata": {
        "id": "tyAOAFcq-qYi"
      }
    },
    {
      "cell_type": "code",
      "metadata": {
        "id": "exdmwYE3YCTv",
        "cellView": "form",
        "colab": {
          "base_uri": "https://localhost:8080/"
        },
        "outputId": "153ea6f7-3474-4af9-e15a-1962f2e08ebd"
      },
      "source": [
        "#@title 🙋Mount to Google Drive \n",
        "from google.colab import drive\n",
        "drive.mount('/content/drive')"
      ],
      "execution_count": 1,
      "outputs": [
        {
          "output_type": "stream",
          "name": "stdout",
          "text": [
            "Mounted at /content/drive\n"
          ]
        }
      ]
    },
    {
      "cell_type": "code",
      "metadata": {
        "id": "rrxqhjn99Z2i",
        "cellView": "form",
        "outputId": "43a4a534-a51a-49b6-813d-1c836133298a",
        "colab": {
          "base_uri": "https://localhost:8080/"
        }
      },
      "source": [
        "#@title ⚠️⚠️  Compile Desmond, Please upload your licensed Academic Desmond here.\n",
        "! cp /content/drive/MyDrive/softwares/Desmond_Maestro_2021.1.tar /content/\n",
        "! tar -xvf Desmond_Maestro_2021.1.tar\n",
        "! mkdir /opt/scratch\n",
        "%cd /content/Desmond_Maestro_2021.1\n",
        "#! ./INSTALL\n",
        "!./INSTALL -b -d ../Desmond_Maestro_2021.1 -s /content/Desmond_Maestro_2021.1 -k /opt/scratch -t /content/Desmond_Maestro_2021.1 alldocs-v5.3-docs.tar.gz maestro-v12.7-Linux-x86_64.tar.gz desmond-v6.5-Linux-x86_64.tar.gz mmshare-v5.3-Linux-x86_64.tar.gz academic_license.lic \n",
        "%env SCHRODINGER /content/Desmond_Maestro_2021.1"
      ],
      "execution_count": 2,
      "outputs": [
        {
          "output_type": "stream",
          "name": "stdout",
          "text": [
            "Desmond_Maestro_2021.1/\n",
            "Desmond_Maestro_2021.1/Desmond_License.txt\n",
            "Desmond_Maestro_2021.1/CHECKSUM.md5\n",
            "Desmond_Maestro_2021.1/mmshare-v5.3-Linux-x86_64.tar.gz\n",
            "Desmond_Maestro_2021.1/academic_license.lic\n",
            "Desmond_Maestro_2021.1/README.FIRST.txt\n",
            "Desmond_Maestro_2021.1/Desmond_Maestro_2021.1.tar\n",
            "Desmond_Maestro_2021.1/desmond-v6.5-Linux-x86_64.tar.gz\n",
            "Desmond_Maestro_2021.1/INSTALL\n",
            "Desmond_Maestro_2021.1/alldocs-v5.3-docs.tar.gz\n",
            "Desmond_Maestro_2021.1/maestro-v12.7-Linux-x86_64.tar.gz\n",
            "/content/Desmond_Maestro_2021.1\n",
            " \n",
            "Installing from alldocs-v5.3-docs.tar.gz ...\n",
            "Creating new directory: '/content/Desmond_Maestro_2021.1/docs'\n",
            " \n",
            "Installing from desmond-v6.5-Linux-x86_64.tar.gz ...\n",
            "Creating new directory: '/content/Desmond_Maestro_2021.1/desmond-v6.5'\n",
            " \n",
            "Creating new directory: 'disabled_lib/Linux-x86_64'\n",
            " \n",
            "Installing from maestro-v12.7-Linux-x86_64.tar.gz ...\n",
            "Creating new directory: '/content/Desmond_Maestro_2021.1/maestro-v12.7'\n",
            " \n",
            "Creating new directory: 'disabled_lib/Linux-x86_64'\n",
            " \n",
            "Installing from mmshare-v5.3-Linux-x86_64.tar.gz ...\n",
            "Creating new directory: '/content/Desmond_Maestro_2021.1/mmshare-v5.3'\n",
            " \n",
            "Installing flexlm_sensor.pl ...\n",
            "Installing slurm-license-sensor ...\n",
            "Installing support files for common batch queues\n",
            "Installing support files for LSF batch queues\n",
            "Installing support files for PBS10.4 batch queues\n",
            "Installing support files for SGE batch queues\n",
            "Installing support files for SLURM2.1 batch queues\n",
            "Installing support files for Torque batch queues\n",
            " \n",
            "Installing new schrodinger.hosts file\n",
            " \n",
            "Adding an entry for \"localhost\" to /content/Desmond_Maestro_2021.1/schrodinger.hosts\n",
            " \n",
            "** All product installations are done **\n",
            " \n",
            " \n",
            "Installing Academic license...\n",
            "Installed license file:\n",
            "/opt/schrodinger/licenses/10_open_2020-09-18.lic\n",
            "System version of libstdc++.so.6 is 25, bundled version is 22\n",
            "Moving bundled version of libstdc++.so.6 to /content/Desmond_Maestro_2021.1/mmshare-v5.3/disabled_lib to utilize OS distribution provided libstdc++.\n",
            "env: SCHRODINGER=/content/Desmond_Maestro_2021.1\n"
          ]
        }
      ]
    },
    {
      "cell_type": "code",
      "metadata": {
        "id": "LEqKpCLxqQCq",
        "cellView": "form",
        "outputId": "6c2dabf8-26b5-4007-fb8a-85dbfdacb744",
        "colab": {
          "base_uri": "https://localhost:8080/"
        }
      },
      "source": [
        "#@title ⚠️🌹 Set Up Environment Variable, THIS IS EXTREMELY MPORTANT, don't change anything if you can not understand.\n",
        "#!printenv\n",
        "!echo $HOME\n",
        "%env USER root"
      ],
      "execution_count": 3,
      "outputs": [
        {
          "output_type": "stream",
          "name": "stdout",
          "text": [
            "/root\n",
            "env: USER=root\n"
          ]
        }
      ]
    },
    {
      "cell_type": "code",
      "metadata": {
        "id": "AguqPUj-0aZB",
        "cellView": "form",
        "outputId": "fa97c593-9ac8-4894-a075-ba19e72fb99f",
        "colab": {
          "base_uri": "https://localhost:8080/"
        }
      },
      "source": [
        "#@title 🙋 Output GPU Version\n",
        "!nvidia-smi"
      ],
      "execution_count": 4,
      "outputs": [
        {
          "output_type": "stream",
          "name": "stdout",
          "text": [
            "Fri Jun 10 03:48:50 2022       \n",
            "+-----------------------------------------------------------------------------+\n",
            "| NVIDIA-SMI 460.32.03    Driver Version: 460.32.03    CUDA Version: 11.2     |\n",
            "|-------------------------------+----------------------+----------------------+\n",
            "| GPU  Name        Persistence-M| Bus-Id        Disp.A | Volatile Uncorr. ECC |\n",
            "| Fan  Temp  Perf  Pwr:Usage/Cap|         Memory-Usage | GPU-Util  Compute M. |\n",
            "|                               |                      |               MIG M. |\n",
            "|===============================+======================+======================|\n",
            "|   0  A100-SXM4-40GB      Off  | 00000000:00:04.0 Off |                    0 |\n",
            "| N/A   33C    P0    44W / 400W |      0MiB / 40536MiB |      0%      Default |\n",
            "|                               |                      |             Disabled |\n",
            "+-------------------------------+----------------------+----------------------+\n",
            "                                                                               \n",
            "+-----------------------------------------------------------------------------+\n",
            "| Processes:                                                                  |\n",
            "|  GPU   GI   CI        PID   Type   Process name                  GPU Memory |\n",
            "|        ID   ID                                                   Usage      |\n",
            "|=============================================================================|\n",
            "|  No running processes found                                                 |\n",
            "+-----------------------------------------------------------------------------+\n"
          ]
        }
      ]
    },
    {
      "cell_type": "code",
      "metadata": {
        "id": "mjVtdx32TROw",
        "cellView": "form",
        "outputId": "64e88735-2f79-4176-b18b-65ee560f008b",
        "colab": {
          "base_uri": "https://localhost:8080/"
        }
      },
      "source": [
        "#@title 🙋 Output CPU numbers\n",
        "!lscpu"
      ],
      "execution_count": 5,
      "outputs": [
        {
          "output_type": "stream",
          "name": "stdout",
          "text": [
            "Architecture:        x86_64\n",
            "CPU op-mode(s):      32-bit, 64-bit\n",
            "Byte Order:          Little Endian\n",
            "CPU(s):              12\n",
            "On-line CPU(s) list: 0-11\n",
            "Thread(s) per core:  2\n",
            "Core(s) per socket:  6\n",
            "Socket(s):           1\n",
            "NUMA node(s):        1\n",
            "Vendor ID:           GenuineIntel\n",
            "CPU family:          6\n",
            "Model:               85\n",
            "Model name:          Intel(R) Xeon(R) CPU @ 2.20GHz\n",
            "Stepping:            7\n",
            "CPU MHz:             2200.192\n",
            "BogoMIPS:            4400.38\n",
            "Hypervisor vendor:   KVM\n",
            "Virtualization type: full\n",
            "L1d cache:           32K\n",
            "L1i cache:           32K\n",
            "L2 cache:            1024K\n",
            "L3 cache:            39424K\n",
            "NUMA node0 CPU(s):   0-11\n",
            "Flags:               fpu vme de pse tsc msr pae mce cx8 apic sep mtrr pge mca cmov pat pse36 clflush mmx fxsr sse sse2 ss ht syscall nx pdpe1gb rdtscp lm constant_tsc rep_good nopl xtopology nonstop_tsc cpuid tsc_known_freq pni pclmulqdq ssse3 fma cx16 pcid sse4_1 sse4_2 x2apic movbe popcnt aes xsave avx f16c rdrand hypervisor lahf_lm abm 3dnowprefetch invpcid_single ssbd ibrs ibpb stibp ibrs_enhanced fsgsbase tsc_adjust bmi1 hle avx2 smep bmi2 erms invpcid rtm mpx avx512f avx512dq rdseed adx smap clflushopt clwb avx512cd avx512bw avx512vl xsaveopt xsavec xgetbv1 xsaves arat avx512_vnni md_clear arch_capabilities\n"
          ]
        }
      ]
    },
    {
      "cell_type": "code",
      "source": [
        "#@title Set up schrodinger.hosts file, adjust the CPU number as per the output above. You don't have to change GPU name, it doesn't really matter.\n",
        "com_file = open('schrodinger.hosts','w')\n",
        "com_file.write('''\n",
        "name:         Academic\n",
        "host:        localhost\n",
        "schrodinger: /opt/schrodinger-2021\n",
        "processors:  12\n",
        "tmpdir:      /opt/scratch\n",
        "gpgpu:       0, Tesla T4  \n",
        "''')\n",
        "com_file.close()"
      ],
      "metadata": {
        "cellView": "form",
        "id": "EzphJiS4GcmX"
      },
      "execution_count": 7,
      "outputs": []
    },
    {
      "cell_type": "code",
      "metadata": {
        "id": "EbDoj950Wv1T",
        "cellView": "form"
      },
      "source": [
        "#@title  🙋 Input name, you decide where you upload to your drive.\n",
        "FEP_tarball_path = \"/content/drive/MyDrive/ligand_fep.tar.gz\" #@param {type:\"string\"}\n",
        "%cd /content/\n",
        "!tar -xvf '{FEP_tarball_path}'\n",
        "%cd ligand_fep_2"
      ],
      "execution_count": null,
      "outputs": []
    },
    {
      "cell_type": "code",
      "source": [
        "%cd /content/drive/MyDrive/ligand_fep_1"
      ],
      "metadata": {
        "id": "7N2Z6ElzvIUl",
        "outputId": "4f1f20c2-07f6-43da-a19b-983b71ef0f53",
        "colab": {
          "base_uri": "https://localhost:8080/"
        }
      },
      "execution_count": 9,
      "outputs": [
        {
          "output_type": "stream",
          "name": "stdout",
          "text": [
            "/content/drive/MyDrive/ligand_fep_2008_2009_srpk1\n"
          ]
        }
      ]
    },
    {
      "cell_type": "code",
      "metadata": {
        "cellView": "form",
        "id": "fbVlLDbOQr9l",
        "outputId": "c70f4158-aaf5-4ee6-86d4-27bb2ec7bef5",
        "colab": {
          "base_uri": "https://localhost:8080/"
        }
      },
      "source": [
        "#@title 🙋 🐶🐶 Start the simulation in a sequencial manner.Complex+Solvent\n",
        "!chmod +x ligand_fep_1.sh\n",
        "!./ligand_fep_1.sh"
      ],
      "execution_count": 10,
      "outputs": [
        {
          "output_type": "stream",
          "name": "stdout",
          "text": [
            "WARNING: You did not specify for '-maxjob'. Remember its default value is 1.\n",
            "WARNING: Launching jobs as root is strongly discouraged. Proceeding anyway...\n",
            "JobId: 11bd6d3619df-0-62a2bff7\n",
            "\n"
          ]
        }
      ]
    },
    {
      "cell_type": "code",
      "metadata": {
        "id": "Yblq_6PUW1Rv",
        "colab": {
          "base_uri": "https://localhost:8080/"
        },
        "outputId": "b6bf7c1c-a678-4ab2-9445-575120b02c6b",
        "cellView": "form"
      },
      "source": [
        "#@title 🙋 👀 😊😊 This is where you see the magic numbers of delt delt G\n",
        "!tail -30 ligand_fep_1_multisim.log"
      ],
      "execution_count": 12,
      "outputs": [
        {
          "output_type": "stream",
          "name": "stdout",
          "text": [
            "tail: cannot open 'ligand_fep_1_multisim.log' for reading: No such file or directory\n"
          ]
        }
      ]
    },
    {
      "cell_type": "code",
      "metadata": {
        "id": "_qOPwgNxWv6v",
        "colab": {
          "base_uri": "https://localhost:8080/"
        },
        "outputId": "c01235e4-c511-46ea-d2d4-de825e80267e",
        "cellView": "form"
      },
      "source": [
        "#@title 🙋 Monitor the simulation-sub jobs, this is optional\n",
        "!tail -30 /opt/scratch/root/ligand_fep_1_complex/ligand_fep_1_complex_multisim.log\n",
        "!tail -30 /opt/scratch/root/ligand_fep_1_solvent/ligand_fep_1_solvent_multisim.log"
      ],
      "execution_count": 13,
      "outputs": [
        {
          "output_type": "stream",
          "name": "stdout",
          "text": [
            "tail: cannot open '/opt/scratch/root/ligand_fep_1_complex/ligand_fep_1_complex_multisim.log' for reading: No such file or directory\n",
            "tail: cannot open '/opt/scratch/root/ligand_fep_1_solvent/ligand_fep_1_solvent_multisim.log' for reading: No such file or directory\n"
          ]
        }
      ]
    },
    {
      "cell_type": "code",
      "source": [
        "#@title If you have not subscribed to Colab Pro, this is critical to keep your web browser alive and busy, to avoid being killed after no activity for hours.\n",
        "while True:pass"
      ],
      "metadata": {
        "id": "UKPMlPUENg1I",
        "cellView": "form"
      },
      "execution_count": null,
      "outputs": []
    },
    {
      "cell_type": "markdown",
      "source": [
        "# All Done, you can just wait until the job finish, it takes about 7-10 hours for kinase size protein simulation. The result is stored in the log file."
      ],
      "metadata": {
        "id": "tje2-5Vm6Cp9"
      }
    },
    {
      "cell_type": "code",
      "source": [
        "--------------------------------------- FINISH LINE-----------------------------------------------"
      ],
      "metadata": {
        "id": "oYxswiPB85pl"
      },
      "execution_count": null,
      "outputs": []
    },
    {
      "cell_type": "markdown",
      "source": [
        "# Alternatively, you can run Complex and Solvent legs separately, to shorten the time it need compared to the sequencial running. What you do is you don't run the cell labelled with  🙋 🐶🐶, but the two labelled 🐱🐱. I only recommend you do this until you really know how to handle them properly, if not just let it run in a sequencial manner."
      ],
      "metadata": {
        "id": "zIpVqYmt14AS"
      }
    },
    {
      "cell_type": "code",
      "source": [
        "#@title 🐱🐱Split the job-Complex Leg\n",
        "!\"${SCHRODINGER}/utilities/multisim\" -HOST localhost -SUBHOST Academic -m ligand_fep_2_solvent.msj -JOBNAME ligand_fep_2 ligand_fep_2.mae -TMPLAUNCHDIR -VIEWNAME ligand_fep.FEPScholarPanel -TMPLAUNCHDIR"
      ],
      "metadata": {
        "cellView": "form",
        "outputId": "379e3d26-27ba-4448-a309-79dd10f23157",
        "colab": {
          "base_uri": "https://localhost:8080/"
        },
        "id": "THP0MoC31rBx"
      },
      "execution_count": null,
      "outputs": [
        {
          "output_type": "stream",
          "name": "stdout",
          "text": [
            "WARNING: You did not specify for '-maxjob'. Remember its default value is 1.\n",
            "WARNING: Launching jobs as root is strongly discouraged. Proceeding anyway...\n",
            "JobId: f78f1b23d561-0-628a088d\n",
            "\n"
          ]
        }
      ]
    },
    {
      "cell_type": "code",
      "source": [
        "#@title 🐱🐱Split the job-Solvent Leg\n",
        "!\"${SCHRODINGER}/utilities/multisim\" -HOST localhost -SUBHOST Academic -m ligand_fep_2_solvent.msj -JOBNAME ligand_fep_2 ligand_fep_2.mae -TMPLAUNCHDIR -VIEWNAME ligand_fep.FEPScholarPanel -TMPLAUNCHDIR"
      ],
      "metadata": {
        "cellView": "form",
        "outputId": "86c6188d-6f37-476c-9d5c-54bc365bd08a",
        "colab": {
          "base_uri": "https://localhost:8080/"
        },
        "id": "CdKkC7DG1rB-"
      },
      "execution_count": null,
      "outputs": [
        {
          "output_type": "stream",
          "name": "stdout",
          "text": [
            "WARNING: You did not specify for '-maxjob'. Remember its default value is 1.\n",
            "WARNING: Launching jobs as root is strongly discouraged. Proceeding anyway...\n",
            "JobId: a31351f01688-0-628a0dd3\n",
            "\n"
          ]
        }
      ]
    },
    {
      "cell_type": "code",
      "source": [
        "After having separately run the complex and solvent, use complex minus solvent mannually, is the FEP value we are looking for."
      ],
      "metadata": {
        "id": "6gzJBETg9Bou"
      },
      "execution_count": null,
      "outputs": []
    }
  ]
}