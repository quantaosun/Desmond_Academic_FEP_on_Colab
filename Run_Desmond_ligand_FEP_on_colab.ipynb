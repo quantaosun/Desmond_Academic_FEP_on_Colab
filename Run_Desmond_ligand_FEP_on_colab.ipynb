{
  "nbformat": 4,
  "nbformat_minor": 0,
  "metadata": {
    "colab": {
      "name": "Run_Desmond_ligand_FEP_on_colab.ipynb",
      "provenance": [],
      "collapsed_sections": [],
      "background_execution": "on"
    },
    "kernelspec": {
      "display_name": "Python 3",
      "name": "python3"
    },
    "accelerator": "GPU"
  },
  "cells": [
    {
      "cell_type": "markdown",
      "source": [
        "[![Open In Colab](https://colab.research.google.com/assets/colab-badge.svg)](https://colab.research.google.com/github/quantaosun/Install_and_Run_Desmond_Academic_FEP_on_Colab/blob/main/Run_Desmond_ligand_FEP_on_colab.ipynb)"
      ],
      "metadata": {
        "id": "sjXuoWUfJauh"
      }
    },
    {
      "cell_type": "markdown",
      "source": [
        "[![在百度AI Studio中打开](🐶)](https://aistudio.baidu.com/bd-gpu-04/user/696173/4170188/lab/tree/Run_Desmond_ligand_FEP_on_colab.ipynb)"
      ],
      "metadata": {
        "id": "MHLUhPNLL-0H"
      }
    },
    {
      "cell_type": "code",
      "source": [
        "You are invited to contribute here to provide a way to use command line to prepare the ligand fep instead of using GUI."
      ],
      "metadata": {
        "id": "DD4Y884LG3R9"
      },
      "execution_count": null,
      "outputs": []
    },
    {
      "cell_type": "markdown",
      "metadata": {
        "id": "qberSmCjH8S0"
      },
      "source": [
        "This is for an FEP simulation, input files are produced from the Desmond Academic Maestro LigandFEP module. Written by quantaosun@gmail.com in 2021, Shanghai, China, during a 'world record' strand time due to COVID that I can't go back to my Australian university to continue my study. The ultimate goal here is to allow you to calculate the difference in free energy of binding between a pair of small molecules, as will show in the cell labelled 🙋 👀 😊😊 below, unfortunately, you have wait at least several hours before the result could be seen, as FEP is highly costly in terms of computer resources."
      ]
    },
    {
      "cell_type": "markdown",
      "source": [
        "As of 2022, FEP calculation is still of high value and the commercial price is expensive. This notebook is to provide the academic and non-profit research community with a real solution if they want to try this new method. There are way too many so-called FEPs that take forever to learn and finish. Desmond is the fastest and most reliable one I have ever met, with GPU supported, a typical FEP could be finished with 10h, with a Tesla V100 on Google Colab, with only a subscription fee of around 70 USD per month. It is a bit expensive if you look at it from a coffee price way, but it is nothing compared to the 100,000 USD commercial FEP per year. It is guaranteed the academic version is working, For the commercial version, I have not tested it yet, you may need to adjust some of the commands, or it might be not possible if the commercial one fixes the IP address but Colab allocates us random IP every time."
      ],
      "metadata": {
        "id": "GLBiWoHdBygq"
      }
    },
    {
      "cell_type": "code",
      "source": [
        "To get an FEP done, you need 1. Licensed Desmond to allow you to prepare your input files. 2. A platform with a decent GPU \n",
        "allow you to finish the simulation within a reasonable time. This notebook already helped to sort out number 2 with google collab's GPU. For number 1\n",
        "please sort it out yourself since I can not provide you with a licensed Desmond but you have to apply from Desmond's official site."
      ],
      "metadata": {
        "id": "dKlvaoNL9Nbc"
      },
      "execution_count": null,
      "outputs": []
    },
    {
      "cell_type": "markdown",
      "source": [
        "# Please note this is not a stand-alone workflow, I only provide the way how to run it. \n",
        "\n",
        "---\n",
        "\n",
        "**To comply with intellectual property rules, you need to apply your Desmond by yourself or prepare your input or by commercial Schrodinger FEP+， i.e.， the second excutable cell with ⚠️⚠️ below.**"
      ],
      "metadata": {
        "id": "Sc3L_9-42eDN"
      }
    },
    {
      "cell_type": "markdown",
      "source": [
        "\n",
        "Alternatively, this notebook could be used on any Cloud GPU platforms that Desmond supported, the only thing you have to make sure of is that, \n",
        "the 'USER' environment needs to be defined clearly on different platforms， change this in cell labeled with  ⚠️🌹 below. "
      ],
      "metadata": {
        "id": "tyAOAFcq-qYi"
      }
    },
    {
      "cell_type": "code",
      "metadata": {
        "id": "exdmwYE3YCTv",
        "cellView": "form",
        "colab": {
          "base_uri": "https://localhost:8080/"
        },
        "outputId": "dc17d364-52b1-4c70-de54-d00728e9c6ad"
      },
      "source": [
        "#@title 🙋Mount to Google Drive \n",
        "from google.colab import drive\n",
        "drive.mount('/content/drive')"
      ],
      "execution_count": null,
      "outputs": [
        {
          "output_type": "stream",
          "name": "stdout",
          "text": [
            "Mounted at /content/drive\n"
          ]
        }
      ]
    },
    {
      "cell_type": "code",
      "metadata": {
        "id": "rrxqhjn99Z2i",
        "cellView": "form"
      },
      "source": [
        "#@title ⚠️⚠️  Compile Desmond, Please upload your licensed Academic Desmond here.\n",
        "! cp /content/drive/MyDrive/softwares/Desmond_Maestro_2021.1.tar /content/\n",
        "! tar -xvf Desmond_Maestro_2021.1.tar\n",
        "! mkdir /opt/scratch\n",
        "%cd /content/Desmond_Maestro_2021.1\n",
        "#! ./INSTALL\n",
        "!./INSTALL -b -d ../Desmond_Maestro_2021.1 -s /content/Desmond_Maestro_2021.1 -k /opt/scratch -t /content/Desmond_Maestro_2021.1 alldocs-v5.3-docs.tar.gz maestro-v12.7-Linux-x86_64.tar.gz desmond-v6.5-Linux-x86_64.tar.gz mmshare-v5.3-Linux-x86_64.tar.gz academic_license.lic \n",
        "%env SCHRODINGER /content/Desmond_Maestro_2021.1"
      ],
      "execution_count": null,
      "outputs": []
    },
    {
      "cell_type": "code",
      "metadata": {
        "id": "LEqKpCLxqQCq",
        "cellView": "form"
      },
      "source": [
        "#@title ⚠️🌹 Set Up Environment Variable, THIS IS EXTREMELY MPORTANT, don't change anything if you can not understand.\n",
        "#!printenv\n",
        "!echo $HOME\n",
        "%env USER root"
      ],
      "execution_count": null,
      "outputs": []
    },
    {
      "cell_type": "code",
      "metadata": {
        "id": "AguqPUj-0aZB",
        "cellView": "form"
      },
      "source": [
        "#@title 🙋 Output GPU Version\n",
        "!nvidia-smi"
      ],
      "execution_count": null,
      "outputs": []
    },
    {
      "cell_type": "code",
      "metadata": {
        "id": "mjVtdx32TROw",
        "cellView": "form"
      },
      "source": [
        "#@title 🙋 Output CPU numbers\n",
        "!lscpu"
      ],
      "execution_count": null,
      "outputs": []
    },
    {
      "cell_type": "code",
      "source": [
        "#@title Prepare license, adjust the CPU number as per the output above. You don't have to change GPU name, it doesn't really matter.\n",
        "com_file.write('''\n",
        "name:         Academic\n",
        "host:        localhost\n",
        "schrodinger: /opt/schrodinger-2021\n",
        "processors:  2\n",
        "tmpdir:      /opt/scratch\n",
        "gpgpu:       0, Tesla T4  \n",
        "''')\n",
        "com_file.close()"
      ],
      "metadata": {
        "cellView": "form",
        "id": "EzphJiS4GcmX"
      },
      "execution_count": null,
      "outputs": []
    },
    {
      "cell_type": "code",
      "metadata": {
        "cellView": "form",
        "id": "QRsScmIKQQ2H"
      },
      "source": [
        "#@title 🙋 Set up schrodinger.hosts file, the old one is renamed, a new one created, adjust the line number if necessary.\n",
        "!head -n 16 schrodinger.hosts > license1.hosts\n",
        "!cat license.txt >> license1.hosts\n",
        "!mv schrodinger.hosts schrodinger.old.host\n",
        "!mv license1.hosts schrodinger.hosts\n",
        "\n",
        "\n"
      ],
      "execution_count": null,
      "outputs": []
    },
    {
      "cell_type": "code",
      "metadata": {
        "id": "EbDoj950Wv1T",
        "cellView": "form"
      },
      "source": [
        "#@title  🙋 Input name, you decide where you upload to your drive.\n",
        "FEP_tarball_path = \"/content/drive/MyDrive/ligand_fep.tar.gz\" #@param {type:\"string\"}\n",
        "%cd /content/\n",
        "!tar -xvf '{FEP_tarball_path}'\n",
        "%cd ligand_fep_2"
      ],
      "execution_count": null,
      "outputs": []
    },
    {
      "cell_type": "code",
      "source": [
        "No matter where you upload your file, the simulation by default is running under /content folder, if you want to change, use \"cd\" command to enter your path."
      ],
      "metadata": {
        "id": "FsDkIHZQBNcc"
      },
      "execution_count": null,
      "outputs": []
    },
    {
      "cell_type": "code",
      "metadata": {
        "cellView": "form",
        "id": "fbVlLDbOQr9l"
      },
      "source": [
        "#@title 🙋 🐶🐶 Start the simulation in a sequencial manner.Complex+Solvent\n",
        "!chmod +x ligand_fep_2.sh\n",
        "!./ligand_fep_2.sh "
      ],
      "execution_count": null,
      "outputs": []
    },
    {
      "cell_type": "code",
      "metadata": {
        "id": "Yblq_6PUW1Rv",
        "colab": {
          "base_uri": "https://localhost:8080/"
        },
        "outputId": "6cf5dc81-4741-4b82-f369-1769cf0c4ff9",
        "cellView": "form"
      },
      "source": [
        "#@title 🙋 👀 😊😊 This is where you see the magic numbers of delt delt G\n",
        "!tail -30 /content/drive/MyDrive/ligand_fep_1/ligand_fep_1_multisim.log"
      ],
      "execution_count": null,
      "outputs": [
        {
          "output_type": "stream",
          "name": "stdout",
          "text": [
            "Stage 1 - task\n",
            "stage[1] task: Detecting system type...\n",
            "stage[1] task:   It seems raw geometries created for FEP calculations\n",
            "stage[1] task: Recognizing traits of system...\n",
            "stage[1] task:   (none)\n",
            "\n",
            "Stage 1 completed successfully.\n",
            "Stage 1 duration: 0h 0' 0\"\n",
            "\n",
            "\n",
            "Stage 2 - multisim\n",
            "\n",
            "Running subjobs on hosts:\n",
            "  Academic (Max: 1)\n",
            "Number of jobs:       2\n",
            "Max retries per job:  3\n",
            "Max allowed failures: unlimited\n",
            "Verbosity:            normal\n",
            "\n",
            "Starting JobDJ...\n",
            "\n",
            "Keep one job on driver host: False\n",
            "JobDJ columns:\n",
            "  C: Number of completed subjobs\n",
            "  A: Number of active subjobs (e.g., submitted, running)\n",
            "  W: Number of waiting/pending subjobs\n",
            "\n",
            "C A W | Activity  JobId  JobName  JobHost\n",
            "- - - | --------- -----------------------\n",
            "0 1 1 | launched  33702864cbf3-0-62358ebd ligand_fep_1_CLK_NBn-NH2_complex Academic [33702864cbf3]\n"
          ]
        }
      ]
    },
    {
      "cell_type": "code",
      "metadata": {
        "id": "_qOPwgNxWv6v",
        "colab": {
          "base_uri": "https://localhost:8080/"
        },
        "outputId": "3d908824-e12a-459c-ac76-f97b50dfedaf",
        "cellView": "form"
      },
      "source": [
        "#@title 🙋 Monitor the simulation-sub jobs, this is optional\n",
        "!tail -30 /opt/scratch/root/ligand_fep_5_8_complex/ligand_fep_5_8_complex_multisim.log\n",
        "!tail -30 /opt/scratch/root/ligand_fep_5_8_solvent/ligand_fep_5_8_complex_multisim.log"
      ],
      "execution_count": null,
      "outputs": [
        {
          "output_type": "stream",
          "name": "stdout",
          "text": [
            "  Duration   : 0h 1' 58\"\n",
            "  CPUs       : 1\n",
            "  CPU time   : 0h 1' 58\"\n",
            "  Exit code  : 0\n",
            "  Jobname    : ligand_fep_5_8_complex_10_lambda11\n",
            "  Stage      : 10 (simulate)\n",
            "\n",
            "Stage 10 completed successfully.\n",
            "Stage 10 duration: 0h 26' 6\"\n",
            "\n",
            "\n",
            "Stage 11 - lambda_hopping\n",
            "Hot atoms selected by ASL expression: asl: atom.i_rest_hotregion 1\n",
            "Number of hot atoms: 40\n",
            "Hot atoms: [15457, 15458, 15459, 15460, 15461, 15462, 15463, 15469, 15470, 15471, 15472, 15478, 15486, 15491, 15492, 15495, 15503, 15504, 15505, 15511, 15512, 15513, 15514, 15515, 15516, 15517, 15523, 15524, 15525, 15531, 15539, 15540, 15541, 15546, 15547, 15550, 15558, 15559, 15560, 15566]\n",
            "stage[11] lambda_hopping: Temperature ladder (exchange probability) for solute tempering:\n",
            "stage[11] lambda_hopping:   300   (0.292)\n",
            "stage[11] lambda_hopping:   379   (0.293)\n",
            "stage[11] lambda_hopping:   474   (0.308)\n",
            "stage[11] lambda_hopping:   586   (0.302)\n",
            "stage[11] lambda_hopping:   722   (0.31)\n",
            "stage[11] lambda_hopping:   884   (1)\n",
            "stage[11] lambda_hopping:   884   (0.31)\n",
            "stage[11] lambda_hopping:   722   (0.302)\n",
            "stage[11] lambda_hopping:   586   (0.308)\n",
            "stage[11] lambda_hopping:   474   (0.293)\n",
            "stage[11] lambda_hopping:   379   (0.292)\n",
            "stage[11] lambda_hopping:   300   (n/a)\n",
            "stage[11] lambda_hopping: Estimation of exchange probabilities did not take into account lambda schedule.\n",
            "stage[11] lambda_hopping: Actual exchange probabilities might be lower.\n",
            "tail: cannot open '/opt/scratch/root/ligand_fep_5_8_solvent/ligand_fep_5_8_complex_multisim.log' for reading: No such file or directory\n"
          ]
        }
      ]
    },
    {
      "cell_type": "code",
      "source": [
        "#@title If you have not subscribed to Colab Pro, this is critical to keep your web browser alive and busy, to avoid being killed after no activity for hours.\n",
        "while True:pass"
      ],
      "metadata": {
        "id": "UKPMlPUENg1I",
        "cellView": "form"
      },
      "execution_count": null,
      "outputs": []
    },
    {
      "cell_type": "markdown",
      "source": [
        "# All Done, you can just wait until the job finish, it takes about 7-10 hours for kinase size protein simulation. The result is stored in the log file."
      ],
      "metadata": {
        "id": "tje2-5Vm6Cp9"
      }
    },
    {
      "cell_type": "code",
      "source": [
        "--------------------------------------- FINISH LINE-----------------------------------------------"
      ],
      "metadata": {
        "id": "oYxswiPB85pl"
      },
      "execution_count": null,
      "outputs": []
    },
    {
      "cell_type": "markdown",
      "source": [
        "# Alternatively, you can run Complex and Solvent legs separately, to shorten the time it need compared to the sequencial running. What you do is you don't run the cell labelled with  🙋 🐶🐶, but the two labelled 🐱🐱. I only recommend you do this until you really know how to handle them properly, if not just let it run in a sequencial manner."
      ],
      "metadata": {
        "id": "zIpVqYmt14AS"
      }
    },
    {
      "cell_type": "code",
      "source": [
        "#@title 🐱🐱Split the job-Complex Leg\n",
        "!\"${SCHRODINGER}/utilities/multisim\" -HOST localhost -SUBHOST Academic -m ligand_fep_2_solvent.msj -JOBNAME ligand_fep_2 ligand_fep_2.mae -TMPLAUNCHDIR -VIEWNAME ligand_fep.FEPScholarPanel -TMPLAUNCHDIR"
      ],
      "metadata": {
        "cellView": "form",
        "outputId": "379e3d26-27ba-4448-a309-79dd10f23157",
        "colab": {
          "base_uri": "https://localhost:8080/"
        },
        "id": "THP0MoC31rBx"
      },
      "execution_count": null,
      "outputs": [
        {
          "output_type": "stream",
          "name": "stdout",
          "text": [
            "WARNING: You did not specify for '-maxjob'. Remember its default value is 1.\n",
            "WARNING: Launching jobs as root is strongly discouraged. Proceeding anyway...\n",
            "JobId: f78f1b23d561-0-628a088d\n",
            "\n"
          ]
        }
      ]
    },
    {
      "cell_type": "code",
      "source": [
        "#@title 🐱🐱Split the job-Solvent Leg\n",
        "!\"${SCHRODINGER}/utilities/multisim\" -HOST localhost -SUBHOST Academic -m ligand_fep_2_solvent.msj -JOBNAME ligand_fep_2 ligand_fep_2.mae -TMPLAUNCHDIR -VIEWNAME ligand_fep.FEPScholarPanel -TMPLAUNCHDIR"
      ],
      "metadata": {
        "cellView": "form",
        "outputId": "86c6188d-6f37-476c-9d5c-54bc365bd08a",
        "colab": {
          "base_uri": "https://localhost:8080/"
        },
        "id": "CdKkC7DG1rB-"
      },
      "execution_count": null,
      "outputs": [
        {
          "output_type": "stream",
          "name": "stdout",
          "text": [
            "WARNING: You did not specify for '-maxjob'. Remember its default value is 1.\n",
            "WARNING: Launching jobs as root is strongly discouraged. Proceeding anyway...\n",
            "JobId: a31351f01688-0-628a0dd3\n",
            "\n"
          ]
        }
      ]
    },
    {
      "cell_type": "code",
      "source": [
        "After having separately run the complex and solvent, use complex minus solvent mannually, is the FEP value we are looking for."
      ],
      "metadata": {
        "id": "6gzJBETg9Bou"
      },
      "execution_count": null,
      "outputs": []
    }
  ]
}